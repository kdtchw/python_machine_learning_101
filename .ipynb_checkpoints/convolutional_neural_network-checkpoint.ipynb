{
 "cells": [
  {
   "cell_type": "code",
   "execution_count": 1,
   "metadata": {},
   "outputs": [],
   "source": [
    "import tensorflow as tf\n",
    "from tensorflow.keras.preprocessing.image import ImageDataGenerator"
   ]
  },
  {
   "cell_type": "code",
   "execution_count": 2,
   "metadata": {},
   "outputs": [
    {
     "data": {
      "text/plain": [
       "'2.3.1'"
      ]
     },
     "execution_count": 2,
     "metadata": {},
     "output_type": "execute_result"
    }
   ],
   "source": [
    "tf.__version__"
   ]
  },
  {
   "cell_type": "code",
   "execution_count": 3,
   "metadata": {},
   "outputs": [
    {
     "name": "stdout",
     "output_type": "stream",
     "text": [
      "Found 8000 images belonging to 2 classes.\n"
     ]
    }
   ],
   "source": [
    "# preprocessing the training set\n",
    "train_datagen = ImageDataGenerator(\n",
    "        rescale=1./255,\n",
    "        shear_range=0.2,\n",
    "        zoom_range=0.2,\n",
    "        horizontal_flip=True)\n",
    "training_set = train_datagen.flow_from_directory(\n",
    "        \"./data/neural_network/training_set\",\n",
    "        target_size=(64, 64),\n",
    "        batch_size=32,\n",
    "        class_mode=\"binary\")"
   ]
  },
  {
   "cell_type": "code",
   "execution_count": 4,
   "metadata": {},
   "outputs": [
    {
     "name": "stdout",
     "output_type": "stream",
     "text": [
      "Found 2000 images belonging to 2 classes.\n"
     ]
    }
   ],
   "source": [
    "# preprocessing the test set\n",
    "test_datagen = ImageDataGenerator(rescale=1./255)\n",
    "test_set = test_datagen.flow_from_directory(\n",
    "        \"./data/neural_network/test_set\",\n",
    "        target_size=(64, 64),\n",
    "        batch_size=32,\n",
    "        class_mode=\"binary\")"
   ]
  },
  {
   "cell_type": "code",
   "execution_count": 5,
   "metadata": {},
   "outputs": [],
   "source": [
    "# initializing the cnn\n",
    "cnn = tf.keras.models.Sequential()"
   ]
  },
  {
   "cell_type": "code",
   "execution_count": 6,
   "metadata": {},
   "outputs": [],
   "source": [
    "# convolution\n",
    "cnn.add(tf.keras.layers.Conv2D(filters=32, kernel_size=3, activation=\"relu\", input_shape=[64, 64, 3]))"
   ]
  },
  {
   "cell_type": "code",
   "execution_count": 7,
   "metadata": {},
   "outputs": [],
   "source": [
    "# pooling\n",
    "cnn.add(tf.keras.layers.MaxPool2D(pool_size=2, strides=2))"
   ]
  },
  {
   "cell_type": "code",
   "execution_count": 8,
   "metadata": {},
   "outputs": [],
   "source": [
    "# adding a 2nd convolutional layer\n",
    "cnn.add(tf.keras.layers.Conv2D(filters=32, kernel_size=3, activation=\"relu\"))\n",
    "cnn.add(tf.keras.layers.MaxPool2D(pool_size=2, strides=2))"
   ]
  },
  {
   "cell_type": "code",
   "execution_count": 9,
   "metadata": {},
   "outputs": [],
   "source": [
    "# flattening\n",
    "cnn.add(tf.keras.layers.Flatten())"
   ]
  },
  {
   "cell_type": "code",
   "execution_count": 10,
   "metadata": {},
   "outputs": [],
   "source": [
    "# full connection\n",
    "cnn.add(tf.keras.layers.Dense(units=128, activation=\"relu\"))\n",
    "cnn.add(tf.keras.layers.Dense(units=1, activation=\"sigmoid\"))"
   ]
  },
  {
   "cell_type": "code",
   "execution_count": 11,
   "metadata": {},
   "outputs": [],
   "source": [
    "# compiling the cnn\n",
    "cnn.compile(optimizer=\"adam\", loss=\"binary_crossentropy\", metrics=[\"accuracy\"])"
   ]
  },
  {
   "cell_type": "code",
   "execution_count": 12,
   "metadata": {},
   "outputs": [
    {
     "name": "stdout",
     "output_type": "stream",
     "text": [
      "Epoch 1/25\n",
      "250/250 [==============================] - 64s 255ms/step - loss: 0.6876 - accuracy: 0.5566 - val_loss: 0.6675 - val_accuracy: 0.5965\n",
      "Epoch 2/25\n",
      "250/250 [==============================] - 49s 197ms/step - loss: 0.6286 - accuracy: 0.6516 - val_loss: 0.6348 - val_accuracy: 0.6520\n",
      "Epoch 3/25\n",
      "250/250 [==============================] - 63s 254ms/step - loss: 0.5847 - accuracy: 0.6873 - val_loss: 0.5436 - val_accuracy: 0.7275\n",
      "Epoch 4/25\n",
      "250/250 [==============================] - 49s 195ms/step - loss: 0.5461 - accuracy: 0.7219 - val_loss: 0.5352 - val_accuracy: 0.7390\n",
      "Epoch 5/25\n",
      "250/250 [==============================] - 68s 273ms/step - loss: 0.5153 - accuracy: 0.7395 - val_loss: 0.5187 - val_accuracy: 0.7485\n",
      "Epoch 6/25\n",
      "250/250 [==============================] - 64s 255ms/step - loss: 0.4940 - accuracy: 0.7577 - val_loss: 0.5182 - val_accuracy: 0.7475\n",
      "Epoch 7/25\n",
      "250/250 [==============================] - 48s 194ms/step - loss: 0.4711 - accuracy: 0.7717 - val_loss: 0.5092 - val_accuracy: 0.7495\n",
      "Epoch 8/25\n",
      "250/250 [==============================] - 48s 192ms/step - loss: 0.4481 - accuracy: 0.7879 - val_loss: 0.4682 - val_accuracy: 0.7845\n",
      "Epoch 9/25\n",
      "250/250 [==============================] - 49s 195ms/step - loss: 0.4330 - accuracy: 0.7979 - val_loss: 0.4958 - val_accuracy: 0.7735\n",
      "Epoch 10/25\n",
      "250/250 [==============================] - 47s 186ms/step - loss: 0.4212 - accuracy: 0.8096 - val_loss: 0.4904 - val_accuracy: 0.7780\n",
      "Epoch 11/25\n",
      "250/250 [==============================] - 49s 197ms/step - loss: 0.4080 - accuracy: 0.8141 - val_loss: 0.4632 - val_accuracy: 0.7890\n",
      "Epoch 12/25\n",
      "250/250 [==============================] - 47s 186ms/step - loss: 0.3919 - accuracy: 0.8210 - val_loss: 0.4732 - val_accuracy: 0.7995\n",
      "Epoch 13/25\n",
      "250/250 [==============================] - 47s 189ms/step - loss: 0.3743 - accuracy: 0.8286 - val_loss: 0.4869 - val_accuracy: 0.7890\n",
      "Epoch 14/25\n",
      "250/250 [==============================] - 46s 183ms/step - loss: 0.3559 - accuracy: 0.8414 - val_loss: 0.4740 - val_accuracy: 0.7940\n",
      "Epoch 15/25\n",
      "250/250 [==============================] - 43s 173ms/step - loss: 0.3449 - accuracy: 0.8460 - val_loss: 0.4608 - val_accuracy: 0.7930\n",
      "Epoch 16/25\n",
      "250/250 [==============================] - 43s 171ms/step - loss: 0.3306 - accuracy: 0.8534 - val_loss: 0.4733 - val_accuracy: 0.8020\n",
      "Epoch 17/25\n",
      "250/250 [==============================] - 44s 174ms/step - loss: 0.3211 - accuracy: 0.8575 - val_loss: 0.5172 - val_accuracy: 0.7950\n",
      "Epoch 18/25\n",
      "250/250 [==============================] - 41s 166ms/step - loss: 0.3014 - accuracy: 0.8696 - val_loss: 0.4992 - val_accuracy: 0.8005\n",
      "Epoch 19/25\n",
      "250/250 [==============================] - 62s 247ms/step - loss: 0.3005 - accuracy: 0.8684 - val_loss: 0.5027 - val_accuracy: 0.7945\n",
      "Epoch 20/25\n",
      "250/250 [==============================] - 44s 174ms/step - loss: 0.2752 - accuracy: 0.8817 - val_loss: 0.5119 - val_accuracy: 0.8030\n",
      "Epoch 21/25\n",
      "250/250 [==============================] - 42s 170ms/step - loss: 0.2618 - accuracy: 0.8913 - val_loss: 0.4878 - val_accuracy: 0.8000\n",
      "Epoch 22/25\n",
      "250/250 [==============================] - 42s 169ms/step - loss: 0.2505 - accuracy: 0.8947 - val_loss: 0.5324 - val_accuracy: 0.8030\n",
      "Epoch 23/25\n",
      "250/250 [==============================] - 46s 183ms/step - loss: 0.2326 - accuracy: 0.8990 - val_loss: 0.5326 - val_accuracy: 0.7900\n",
      "Epoch 24/25\n",
      "250/250 [==============================] - 62s 247ms/step - loss: 0.2180 - accuracy: 0.9109 - val_loss: 0.5302 - val_accuracy: 0.8095\n",
      "Epoch 25/25\n",
      "250/250 [==============================] - 45s 182ms/step - loss: 0.2083 - accuracy: 0.9135 - val_loss: 0.5533 - val_accuracy: 0.7995\n"
     ]
    },
    {
     "data": {
      "text/plain": [
       "<tensorflow.python.keras.callbacks.History at 0x1d2aa1d4970>"
      ]
     },
     "execution_count": 12,
     "metadata": {},
     "output_type": "execute_result"
    }
   ],
   "source": [
    "# training the cnn on the training set and evaluating it on the test set\n",
    "cnn.fit(x=training_set, validation_data=test_set, epochs=25)"
   ]
  },
  {
   "cell_type": "code",
   "execution_count": 13,
   "metadata": {},
   "outputs": [],
   "source": [
    "import numpy as np\n",
    "from tensorflow.keras.preprocessing import image"
   ]
  },
  {
   "cell_type": "code",
   "execution_count": 14,
   "metadata": {},
   "outputs": [
    {
     "data": {
      "text/plain": [
       "{'cats': 0, 'dogs': 1}"
      ]
     },
     "execution_count": 14,
     "metadata": {},
     "output_type": "execute_result"
    }
   ],
   "source": [
    "training_set.class_indices"
   ]
  },
  {
   "cell_type": "code",
   "execution_count": 15,
   "metadata": {},
   "outputs": [
    {
     "data": {
      "text/plain": [
       "array([[1.]], dtype=float32)"
      ]
     },
     "execution_count": 15,
     "metadata": {},
     "output_type": "execute_result"
    }
   ],
   "source": [
    "test_image1 = image.load_img(\"./data/neural_network/single_prediction/cat_or_dog_1.jpg\", target_size=(64, 64))\n",
    "test_image1 = image.img_to_array(test_image1)\n",
    "test_image1 = np.expand_dims(test_image1, axis=0)  # Convert single image to a batch.\n",
    "cnn.predict(test_image1)"
   ]
  },
  {
   "cell_type": "code",
   "execution_count": 16,
   "metadata": {},
   "outputs": [
    {
     "data": {
      "text/plain": [
       "array([[0.]], dtype=float32)"
      ]
     },
     "execution_count": 16,
     "metadata": {},
     "output_type": "execute_result"
    }
   ],
   "source": [
    "test_image2 = image.load_img(\"./data/neural_network/single_prediction/cat_or_dog_2.jpg\", target_size=(64, 64))\n",
    "test_image2 = image.img_to_array(test_image2)\n",
    "test_image2 = np.expand_dims(test_image2, axis=0)  # Convert single image to a batch.\n",
    "cnn.predict(test_image2)"
   ]
  },
  {
   "cell_type": "code",
   "execution_count": 19,
   "metadata": {},
   "outputs": [
    {
     "name": "stdout",
     "output_type": "stream",
     "text": [
      "INFO:tensorflow:Assets written to: ./trained_model/cnn_cat_dog_images\\assets\n"
     ]
    }
   ],
   "source": [
    "cnn.save(\"./trained_model/cnn_cat_dog_images\")"
   ]
  },
  {
   "cell_type": "code",
   "execution_count": 21,
   "metadata": {},
   "outputs": [],
   "source": [
    "loaded_cnn = tf.keras.models.load_model(\"./trained_model/cnn_cat_dog_images\")"
   ]
  },
  {
   "cell_type": "code",
   "execution_count": 25,
   "metadata": {},
   "outputs": [
    {
     "data": {
      "text/plain": [
       "array([[1.]], dtype=float32)"
      ]
     },
     "execution_count": 25,
     "metadata": {},
     "output_type": "execute_result"
    }
   ],
   "source": [
    "loaded_cnn.predict(test_image1)"
   ]
  },
  {
   "cell_type": "code",
   "execution_count": 26,
   "metadata": {},
   "outputs": [
    {
     "data": {
      "text/plain": [
       "array([[0.]], dtype=float32)"
      ]
     },
     "execution_count": 26,
     "metadata": {},
     "output_type": "execute_result"
    }
   ],
   "source": [
    "loaded_cnn.predict(test_image2)"
   ]
  },
  {
   "cell_type": "code",
   "execution_count": null,
   "metadata": {},
   "outputs": [],
   "source": []
  }
 ],
 "metadata": {
  "kernelspec": {
   "display_name": "Python 3",
   "language": "python",
   "name": "python3"
  },
  "language_info": {
   "codemirror_mode": {
    "name": "ipython",
    "version": 3
   },
   "file_extension": ".py",
   "mimetype": "text/x-python",
   "name": "python",
   "nbconvert_exporter": "python",
   "pygments_lexer": "ipython3",
   "version": "3.8.3"
  }
 },
 "nbformat": 4,
 "nbformat_minor": 4
}
