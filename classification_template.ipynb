{
 "cells": [
  {
   "cell_type": "code",
   "execution_count": 1,
   "metadata": {},
   "outputs": [],
   "source": [
    "import numpy as np\n",
    "import pandas as pd\n",
    "import matplotlib.pyplot as plt"
   ]
  },
  {
   "cell_type": "code",
   "execution_count": 2,
   "metadata": {},
   "outputs": [],
   "source": [
    "# dataset = pd.read_csv(\"./data/classification/Cancer_Diagnosis.csv\")\n",
    "dataset = pd.read_csv(\"./data/classification/Social_Network_Ads.csv\")"
   ]
  },
  {
   "cell_type": "code",
   "execution_count": 3,
   "metadata": {},
   "outputs": [
    {
     "data": {
      "text/html": [
       "<div>\n",
       "<style scoped>\n",
       "    .dataframe tbody tr th:only-of-type {\n",
       "        vertical-align: middle;\n",
       "    }\n",
       "\n",
       "    .dataframe tbody tr th {\n",
       "        vertical-align: top;\n",
       "    }\n",
       "\n",
       "    .dataframe thead th {\n",
       "        text-align: right;\n",
       "    }\n",
       "</style>\n",
       "<table border=\"1\" class=\"dataframe\">\n",
       "  <thead>\n",
       "    <tr style=\"text-align: right;\">\n",
       "      <th></th>\n",
       "      <th>Age</th>\n",
       "      <th>EstimatedSalary</th>\n",
       "      <th>Purchased</th>\n",
       "    </tr>\n",
       "  </thead>\n",
       "  <tbody>\n",
       "    <tr>\n",
       "      <th>0</th>\n",
       "      <td>19</td>\n",
       "      <td>19000</td>\n",
       "      <td>0</td>\n",
       "    </tr>\n",
       "    <tr>\n",
       "      <th>1</th>\n",
       "      <td>35</td>\n",
       "      <td>20000</td>\n",
       "      <td>0</td>\n",
       "    </tr>\n",
       "    <tr>\n",
       "      <th>2</th>\n",
       "      <td>26</td>\n",
       "      <td>43000</td>\n",
       "      <td>0</td>\n",
       "    </tr>\n",
       "    <tr>\n",
       "      <th>3</th>\n",
       "      <td>27</td>\n",
       "      <td>57000</td>\n",
       "      <td>0</td>\n",
       "    </tr>\n",
       "    <tr>\n",
       "      <th>4</th>\n",
       "      <td>19</td>\n",
       "      <td>76000</td>\n",
       "      <td>0</td>\n",
       "    </tr>\n",
       "    <tr>\n",
       "      <th>...</th>\n",
       "      <td>...</td>\n",
       "      <td>...</td>\n",
       "      <td>...</td>\n",
       "    </tr>\n",
       "    <tr>\n",
       "      <th>395</th>\n",
       "      <td>46</td>\n",
       "      <td>41000</td>\n",
       "      <td>1</td>\n",
       "    </tr>\n",
       "    <tr>\n",
       "      <th>396</th>\n",
       "      <td>51</td>\n",
       "      <td>23000</td>\n",
       "      <td>1</td>\n",
       "    </tr>\n",
       "    <tr>\n",
       "      <th>397</th>\n",
       "      <td>50</td>\n",
       "      <td>20000</td>\n",
       "      <td>1</td>\n",
       "    </tr>\n",
       "    <tr>\n",
       "      <th>398</th>\n",
       "      <td>36</td>\n",
       "      <td>33000</td>\n",
       "      <td>0</td>\n",
       "    </tr>\n",
       "    <tr>\n",
       "      <th>399</th>\n",
       "      <td>49</td>\n",
       "      <td>36000</td>\n",
       "      <td>1</td>\n",
       "    </tr>\n",
       "  </tbody>\n",
       "</table>\n",
       "<p>400 rows × 3 columns</p>\n",
       "</div>"
      ],
      "text/plain": [
       "     Age  EstimatedSalary  Purchased\n",
       "0     19            19000          0\n",
       "1     35            20000          0\n",
       "2     26            43000          0\n",
       "3     27            57000          0\n",
       "4     19            76000          0\n",
       "..   ...              ...        ...\n",
       "395   46            41000          1\n",
       "396   51            23000          1\n",
       "397   50            20000          1\n",
       "398   36            33000          0\n",
       "399   49            36000          1\n",
       "\n",
       "[400 rows x 3 columns]"
      ]
     },
     "execution_count": 3,
     "metadata": {},
     "output_type": "execute_result"
    }
   ],
   "source": [
    "dataset"
   ]
  },
  {
   "cell_type": "code",
   "execution_count": 4,
   "metadata": {},
   "outputs": [],
   "source": [
    "X = dataset.iloc[:,:-1].values\n",
    "y = dataset.iloc[:,-1].values"
   ]
  },
  {
   "cell_type": "code",
   "execution_count": 5,
   "metadata": {},
   "outputs": [],
   "source": [
    "from sklearn.model_selection import train_test_split\n",
    "X_train, X_test, y_train, y_test = train_test_split(X, y, test_size=0.25, random_state=0)"
   ]
  },
  {
   "cell_type": "code",
   "execution_count": 6,
   "metadata": {},
   "outputs": [],
   "source": [
    "from sklearn.preprocessing import StandardScaler\n",
    "sc = StandardScaler()\n",
    "X_train = sc.fit_transform(X_train)\n",
    "X_test = sc.transform(X_test)"
   ]
  },
  {
   "cell_type": "code",
   "execution_count": 7,
   "metadata": {},
   "outputs": [
    {
     "data": {
      "text/plain": [
       "LogisticRegression(random_state=0)"
      ]
     },
     "execution_count": 7,
     "metadata": {},
     "output_type": "execute_result"
    }
   ],
   "source": [
    "# Logistic regression\n",
    "from sklearn.linear_model import LogisticRegression\n",
    "logistic_classifier = LogisticRegression(random_state = 0)\n",
    "logistic_classifier.fit(X_train, y_train)"
   ]
  },
  {
   "cell_type": "code",
   "execution_count": 8,
   "metadata": {},
   "outputs": [
    {
     "data": {
      "text/plain": [
       "KNeighborsClassifier()"
      ]
     },
     "execution_count": 8,
     "metadata": {},
     "output_type": "execute_result"
    }
   ],
   "source": [
    "# K nearest neighbors\n",
    "from sklearn.neighbors import KNeighborsClassifier\n",
    "knn_classifier = KNeighborsClassifier(n_neighbors=5, metric=\"minkowski\", p=2)\n",
    "knn_classifier.fit(X_train, y_train)"
   ]
  },
  {
   "cell_type": "code",
   "execution_count": 9,
   "metadata": {},
   "outputs": [
    {
     "data": {
      "text/plain": [
       "SVC(kernel='linear', random_state=0)"
      ]
     },
     "execution_count": 9,
     "metadata": {},
     "output_type": "execute_result"
    }
   ],
   "source": [
    "# Support vector machine\n",
    "from sklearn.svm import SVC\n",
    "svm_classifier = SVC(kernel=\"linear\", random_state=0)\n",
    "svm_classifier.fit(X_train, y_train)"
   ]
  },
  {
   "cell_type": "code",
   "execution_count": 10,
   "metadata": {},
   "outputs": [
    {
     "data": {
      "text/plain": [
       "SVC(random_state=0)"
      ]
     },
     "execution_count": 10,
     "metadata": {},
     "output_type": "execute_result"
    }
   ],
   "source": [
    "# Kernel SVM\n",
    "from sklearn.svm import SVC\n",
    "ksvm_classifier = SVC(kernel=\"rbf\", random_state=0)\n",
    "ksvm_classifier.fit(X_train, y_train)"
   ]
  },
  {
   "cell_type": "code",
   "execution_count": 11,
   "metadata": {},
   "outputs": [
    {
     "data": {
      "text/plain": [
       "GaussianNB()"
      ]
     },
     "execution_count": 11,
     "metadata": {},
     "output_type": "execute_result"
    }
   ],
   "source": [
    "# Naive Bayes\n",
    "from sklearn.naive_bayes import GaussianNB\n",
    "gnb_classifier = GaussianNB()\n",
    "gnb_classifier.fit(X_train, y_train)"
   ]
  },
  {
   "cell_type": "code",
   "execution_count": 12,
   "metadata": {},
   "outputs": [
    {
     "data": {
      "text/plain": [
       "DecisionTreeClassifier(criterion='entropy', random_state=0)"
      ]
     },
     "execution_count": 12,
     "metadata": {},
     "output_type": "execute_result"
    }
   ],
   "source": [
    "# Decision tree\n",
    "from sklearn.tree import DecisionTreeClassifier\n",
    "dt_classifier = DecisionTreeClassifier(criterion=\"entropy\", random_state=0)\n",
    "dt_classifier.fit(X_train, y_train)"
   ]
  },
  {
   "cell_type": "code",
   "execution_count": 13,
   "metadata": {},
   "outputs": [
    {
     "data": {
      "text/plain": [
       "RandomForestClassifier(criterion='entropy', random_state=0)"
      ]
     },
     "execution_count": 13,
     "metadata": {},
     "output_type": "execute_result"
    }
   ],
   "source": [
    "# Random forest regression\n",
    "from sklearn.ensemble import RandomForestClassifier\n",
    "rf_classifier = RandomForestClassifier(n_estimators=100, criterion=\"entropy\", random_state=0)\n",
    "rf_classifier.fit(X_train, y_train)"
   ]
  },
  {
   "cell_type": "code",
   "execution_count": 14,
   "metadata": {},
   "outputs": [
    {
     "data": {
      "text/plain": [
       "XGBClassifier(base_score=0.5, booster='gbtree', colsample_bylevel=1,\n",
       "              colsample_bynode=1, colsample_bytree=1, gamma=0, gpu_id=-1,\n",
       "              importance_type='gain', interaction_constraints='',\n",
       "              learning_rate=0.300000012, max_delta_step=0, max_depth=6,\n",
       "              min_child_weight=1, missing=nan, monotone_constraints='()',\n",
       "              n_estimators=100, n_jobs=0, num_parallel_tree=1, random_state=0,\n",
       "              reg_alpha=0, reg_lambda=1, scale_pos_weight=1, subsample=1,\n",
       "              tree_method='exact', validate_parameters=1, verbosity=None)"
      ]
     },
     "execution_count": 14,
     "metadata": {},
     "output_type": "execute_result"
    }
   ],
   "source": [
    "# XG boost classification\n",
    "from xgboost import XGBClassifier\n",
    "xgb_classifier = XGBClassifier()\n",
    "xgb_classifier.fit(X_train, y_train)"
   ]
  },
  {
   "cell_type": "code",
   "execution_count": 15,
   "metadata": {},
   "outputs": [],
   "source": [
    "# # predicted action (purchase or not purchase) based on age and estimated salary by logistic regression\n",
    "# print(logistic_classifier.predict(sc.transform([[30, 87000]])))\n",
    "# # predicted action (purchase or not purchase) based on age and estimated salary by k nearest neighbors\n",
    "# print(knn_classifier.predict(sc.transform([[30, 87000]])))\n",
    "# # predicted action (purchase or not purchase) based on age and estimated salary by support vector machine (svm)\n",
    "# print(svm_classifier.predict(sc.transform([[30, 87000]])))\n",
    "# # predicted action (purchase or not purchase) based on age and estimated salary by kernel svm\n",
    "# print(ksvm_classifier.predict(sc.transform([[30, 87000]])))\n",
    "# # predicted action (purchase or not purchase) based on age and estimated salary by naive bayes\n",
    "# print(gnb_classifier.predict(sc.transform([[30, 87000]])))\n",
    "# # predicted action (purchase or not purchase) based on age and estimated salary by decision tree\n",
    "# print(dt_classifier.predict(sc.transform([[30, 87000]])))\n",
    "# # predicted action (purchase or not purchase) based on age and estimated salary by random forest regression\n",
    "# print(rf_classifier.predict(sc.transform([[30, 87000]])))\n",
    "# # predicted action (purchase or not purchase) based on age and estimated salary by random forest regression\n",
    "# print(xgb_classifier.predict(sc.transform([[30, 87000]])))"
   ]
  },
  {
   "cell_type": "code",
   "execution_count": 16,
   "metadata": {},
   "outputs": [],
   "source": [
    "y_pred_logistic = logistic_classifier.predict(X_test)\n",
    "y_pred_knn = knn_classifier.predict(X_test)\n",
    "y_pred_svm = svm_classifier.predict(X_test)\n",
    "y_pred_ksvm = ksvm_classifier.predict(X_test)\n",
    "y_pred_gnb = gnb_classifier.predict(X_test)\n",
    "y_pred_dt = dt_classifier.predict(X_test)\n",
    "y_pred_rf = rf_classifier.predict(X_test)\n",
    "y_pred_xgb = xgb_classifier.predict(X_test)"
   ]
  },
  {
   "cell_type": "code",
   "execution_count": 17,
   "metadata": {},
   "outputs": [
    {
     "name": "stdout",
     "output_type": "stream",
     "text": [
      "[[65  3]\n",
      " [ 8 24]]\n",
      "0.89\n",
      "[[64  4]\n",
      " [ 3 29]]\n",
      "0.93\n",
      "[[66  2]\n",
      " [ 8 24]]\n",
      "0.9\n",
      "[[64  4]\n",
      " [ 3 29]]\n",
      "0.93\n",
      "[[65  3]\n",
      " [ 7 25]]\n",
      "0.9\n",
      "[[62  6]\n",
      " [ 3 29]]\n",
      "0.91\n",
      "[[63  5]\n",
      " [ 4 28]]\n",
      "0.91\n",
      "[[62  6]\n",
      " [ 4 28]]\n",
      "0.9\n"
     ]
    }
   ],
   "source": [
    "from sklearn.metrics import confusion_matrix, accuracy_score\n",
    "\n",
    "print(confusion_matrix(y_test, y_pred_logistic))\n",
    "print(accuracy_score(y_test, y_pred_logistic))\n",
    "\n",
    "print(confusion_matrix(y_test, y_pred_knn))\n",
    "print(accuracy_score(y_test, y_pred_knn))\n",
    "\n",
    "print(confusion_matrix(y_test, y_pred_svm))\n",
    "print(accuracy_score(y_test, y_pred_svm))\n",
    "\n",
    "print(confusion_matrix(y_test, y_pred_ksvm))\n",
    "print(accuracy_score(y_test, y_pred_ksvm))\n",
    "\n",
    "print(confusion_matrix(y_test, y_pred_gnb))\n",
    "print(accuracy_score(y_test, y_pred_gnb))\n",
    "\n",
    "print(confusion_matrix(y_test, y_pred_dt))\n",
    "print(accuracy_score(y_test, y_pred_dt))\n",
    "\n",
    "print(confusion_matrix(y_test, y_pred_rf))\n",
    "print(accuracy_score(y_test, y_pred_rf))\n",
    "\n",
    "print(confusion_matrix(y_test, y_pred_xgb))\n",
    "print(accuracy_score(y_test, y_pred_xgb))"
   ]
  },
  {
   "cell_type": "code",
   "execution_count": 18,
   "metadata": {},
   "outputs": [
    {
     "name": "stdout",
     "output_type": "stream",
     "text": [
      "Logistic regression\n",
      "[0.76666667 0.86666667 0.73333333 0.86666667 0.7        0.66666667\n",
      " 0.83333333 0.93333333 0.96666667 0.9       ]\n",
      "Accuracy: 82.33 %\n",
      "Standard deviation: 9.67 %\n",
      "\n",
      "\n",
      "Kernel nearest neighbors\n",
      "[0.83333333 0.96666667 0.76666667 0.93333333 0.86666667 0.9\n",
      " 0.9        0.93333333 1.         0.96666667]\n",
      "Accuracy: 90.67 %\n",
      "Standard deviation: 6.63 %\n",
      "\n",
      "\n",
      "Support vector machine\n",
      "[0.76666667 0.8        0.73333333 0.83333333 0.73333333 0.66666667\n",
      " 0.83333333 0.93333333 0.96666667 0.86666667]\n",
      "Accuracy: 81.33 %\n",
      "Standard deviation: 8.84 %\n",
      "\n",
      "\n",
      "Kernel support vector machine\n",
      "[0.8        0.96666667 0.8        0.96666667 0.86666667 0.86666667\n",
      " 0.9        0.93333333 1.         0.93333333]\n",
      "Accuracy: 90.33 %\n",
      "Standard deviation: 6.57 %\n",
      "\n",
      "\n",
      "Gaussian naive bayes\n",
      "[0.83333333 0.9        0.73333333 0.93333333 0.83333333 0.73333333\n",
      " 0.86666667 0.96666667 1.         0.96666667]\n",
      "Accuracy: 87.67 %\n",
      "Standard deviation: 8.95 %\n",
      "\n",
      "\n",
      "Decision tree classification\n",
      "[0.83333333 0.86666667 0.7        0.83333333 0.86666667 0.83333333\n",
      " 0.9        0.86666667 0.96666667 0.83333333]\n",
      "Accuracy: 85.00 %\n",
      "Standard deviation: 6.37 %\n",
      "\n",
      "\n",
      "Random forest classification\n",
      "[0.83333333 0.9        0.8        0.93333333 0.86666667 0.83333333\n",
      " 0.93333333 0.9        0.96666667 0.96666667]\n",
      "Accuracy: 89.33 %\n",
      "Standard deviation: 5.54 %\n",
      "\n",
      "\n",
      "XG boost classification\n",
      "[0.83333333 0.8        0.76666667 0.93333333 0.86666667 0.86666667\n",
      " 0.9        0.93333333 0.96666667 0.93333333]\n",
      "Accuracy: 88.00 %\n",
      "Standard deviation: 6.18 %\n"
     ]
    }
   ],
   "source": [
    "from sklearn.model_selection import cross_val_score\n",
    "\n",
    "accuracies_logistic = cross_val_score(estimator=logistic_classifier, X=X_train, y=y_train, cv=10)\n",
    "accuracies_knn = cross_val_score(estimator=knn_classifier, X=X_train, y=y_train, cv=10)\n",
    "accuracies_svm = cross_val_score(estimator=svm_classifier, X=X_train, y=y_train, cv=10)\n",
    "accuracies_ksvm = cross_val_score(estimator=ksvm_classifier, X=X_train, y=y_train, cv=10)\n",
    "accuracies_gnb = cross_val_score(estimator=gnb_classifier, X=X_train, y=y_train, cv=10)\n",
    "accuracies_dt = cross_val_score(estimator=dt_classifier, X=X_train, y=y_train, cv=10)\n",
    "accuracies_rf = cross_val_score(estimator=rf_classifier, X=X_train, y=y_train, cv=10)\n",
    "accuracies_xgb = cross_val_score(estimator=xgb_classifier, X=X_train, y=y_train, cv=10)\n",
    "\n",
    "print(\"Logistic regression\")\n",
    "print(accuracies_logistic)\n",
    "print(\"Accuracy: {:.2f} %\".format(accuracies_logistic.mean() * 100))\n",
    "print(\"Standard deviation: {:.2f} %\".format(accuracies_logistic.std() * 100))\n",
    "print(\"\\n\")\n",
    "\n",
    "print(\"Kernel nearest neighbors\")\n",
    "print(accuracies_knn)\n",
    "print(\"Accuracy: {:.2f} %\".format(accuracies_knn.mean() * 100))\n",
    "print(\"Standard deviation: {:.2f} %\".format(accuracies_knn.std() * 100))\n",
    "print(\"\\n\")\n",
    "\n",
    "print(\"Support vector machine\")\n",
    "print(accuracies_svm)\n",
    "print(\"Accuracy: {:.2f} %\".format(accuracies_svm.mean() * 100))\n",
    "print(\"Standard deviation: {:.2f} %\".format(accuracies_svm.std() * 100))\n",
    "print(\"\\n\")\n",
    "\n",
    "print(\"Kernel support vector machine\")\n",
    "print(accuracies_ksvm)\n",
    "print(\"Accuracy: {:.2f} %\".format(accuracies_ksvm.mean() * 100))\n",
    "print(\"Standard deviation: {:.2f} %\".format(accuracies_ksvm.std() * 100))\n",
    "print(\"\\n\")\n",
    "\n",
    "print(\"Gaussian naive bayes\")\n",
    "print(accuracies_gnb)\n",
    "print(\"Accuracy: {:.2f} %\".format(accuracies_gnb.mean() * 100))\n",
    "print(\"Standard deviation: {:.2f} %\".format(accuracies_gnb.std() * 100))\n",
    "print(\"\\n\")\n",
    "\n",
    "print(\"Decision tree classification\")\n",
    "print(accuracies_dt)\n",
    "print(\"Accuracy: {:.2f} %\".format(accuracies_dt.mean() * 100))\n",
    "print(\"Standard deviation: {:.2f} %\".format(accuracies_dt.std() * 100))\n",
    "print(\"\\n\")\n",
    "\n",
    "print(\"Random forest classification\")\n",
    "print(accuracies_rf)\n",
    "print(\"Accuracy: {:.2f} %\".format(accuracies_rf.mean() * 100))\n",
    "print(\"Standard deviation: {:.2f} %\".format(accuracies_rf.std() * 100))\n",
    "print(\"\\n\")\n",
    "\n",
    "print(\"XG boost classification\")\n",
    "print(accuracies_xgb)\n",
    "print(\"Accuracy: {:.2f} %\".format(accuracies_xgb.mean() * 100))\n",
    "print(\"Standard deviation: {:.2f} %\".format(accuracies_xgb.std() * 100))"
   ]
  },
  {
   "cell_type": "code",
   "execution_count": null,
   "metadata": {},
   "outputs": [],
   "source": []
  }
 ],
 "metadata": {
  "kernelspec": {
   "display_name": "Python 3",
   "language": "python",
   "name": "python3"
  },
  "language_info": {
   "codemirror_mode": {
    "name": "ipython",
    "version": 3
   },
   "file_extension": ".py",
   "mimetype": "text/x-python",
   "name": "python",
   "nbconvert_exporter": "python",
   "pygments_lexer": "ipython3",
   "version": "3.8.3"
  }
 },
 "nbformat": 4,
 "nbformat_minor": 4
}
